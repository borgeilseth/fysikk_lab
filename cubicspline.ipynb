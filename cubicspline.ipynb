{
  "cells": [
    {
      "cell_type": "markdown",
      "metadata": {
        "id": "crY6YB7FlBIN"
      },
      "source": [
        "# TFY41xx Fysikk våren 2021.\n",
        "\n",
        "Programmet tar utgangspunkt i høyyden til de 8 festepunktene.\n",
        "Deretter beregnes baneformen $y(x)$ ved hjelp av 7 tredjegradspolynomer, \n",
        "et for hvert intervall mellom to festepunkter, slik at både banen $y$, \n",
        "dens stigningstall $y^\\prime = \\frac{dy}{dx}$ og dens andrederiverte\n",
        " $y^{\\prime \\prime} = \\frac{d^2y}{dx^2}$ er kontinuerlige i de 6 indre festepunktene.\n",
        " I tillegg velges null krumning (andrederivert) \n",
        " i banens to ytterste festepunkter (med `bc_type='natural'` nedenfor).\n",
        " Dette gir i alt 28 ligninger som fastlegger de 28 koeffisientene\n",
        " i de i alt 7 tredjegradspolynomene.\n",
        "\n",
        " De ulike banene er satt opp med tanke paa at kula skal \n",
        "\n",
        "*   Fullføre hele banen selv om den taper noe mekanisk energi underveis;\n",
        "*   Rulle rent, uten  gli (\"slure\").\n"
      ]
    },
    {
      "cell_type": "markdown",
      "metadata": {
        "id": "nFo0yc29mD6M"
      },
      "source": [
        "Vi importerer noedvendige biblioteker:"
      ]
    },
    {
      "cell_type": "code",
      "execution_count": 2,
      "metadata": {
        "id": "AqFawUiVl6kA"
      },
      "outputs": [],
      "source": [
        "import matplotlib.pyplot as plt\n",
        "import numpy as np\n",
        "from scipy.interpolate import CubicSpline"
      ]
    },
    {
      "cell_type": "markdown",
      "metadata": {
        "id": "KBcxwA4UmJ_y"
      },
      "source": [
        "Horisontal avstand mellom festepunktene er 0.200 m:"
      ]
    },
    {
      "cell_type": "code",
      "execution_count": 3,
      "metadata": {
        "id": "ISFJJUpBmNfx"
      },
      "outputs": [],
      "source": [
        "h = 0.200\n",
        "xfast=np.asarray([0,h,2*h,3*h,4*h,5*h,6*h,7*h])"
      ]
    },
    {
      "cell_type": "markdown",
      "metadata": {
        "id": "Te0qcrmFmWTh"
      },
      "source": [
        "Start, slutt og steglengde i x-rettning"
      ]
    },
    {
      "cell_type": "code",
      "execution_count": 4,
      "metadata": {
        "id": "sgxwH4Ftmd8v"
      },
      "outputs": [],
      "source": [
        "xmin = 0.000\n",
        "xmax = 1.401\n",
        "dx = 0.001"
      ]
    },
    {
      "cell_type": "markdown",
      "metadata": {
        "id": "kv2ct7SfmtGm"
      },
      "source": [
        "Skriv inn y-verdiene til banens 8 festepunkter i tabellen yfast, basert på avlesing i tracker. Et vilkårlig eksempel:"
      ]
    },
    {
      "cell_type": "code",
      "execution_count": 5,
      "metadata": {
        "id": "fzM3YUPom3ko"
      },
      "outputs": [],
      "source": [
        "yfast = np.asarray([0.297, 0.237, 0.198, 0.165, 0.125, 0.158, 0.171, 0.103])"
      ]
    },
    {
      "cell_type": "markdown",
      "metadata": {
        "id": "VNQ7mHaznCQ5"
      },
      "source": [
        "Programmet beregner deretter de 7 tredjegradspolynomene, et for hvert intervall mellom to nabofestepunkter. Med scipy.interpolate-funksjonen CubicSpline:"
      ]
    },
    {
      "cell_type": "code",
      "execution_count": 6,
      "metadata": {
        "id": "eU6gr2kJnVbg"
      },
      "outputs": [],
      "source": [
        "cs = CubicSpline(xfast, yfast, bc_type='natural')\n"
      ]
    },
    {
      "cell_type": "markdown",
      "metadata": {
        "id": "1zXB7-Q51vD3"
      },
      "source": [
        "Funksjonen cs kan nå brukes til å regne ut $y(x)$, $y'(x)$ og $y''(x)$ for en vilkårlig horisontal posisjon x, eventuelt for mange horisontale posisjoner lagret i en tabell: <br>\n",
        "`cs(x)`   tilsvarer $y(x)$<br>\n",
        "`cs(x,1)` tilsvarer $y'(x)$<br>\n",
        "`cs(x,2)` tilsvarer $y''(x)$<br>\n",
        "\n",
        "<br>\n",
        "Her lager vi en tabell med x-verdier mellom 0 og 1.4 m"
      ]
    },
    {
      "cell_type": "code",
      "execution_count": 7,
      "metadata": {
        "id": "r2oeceds1wLl"
      },
      "outputs": [],
      "source": [
        "x = np.arange(xmin, xmax, dx) "
      ]
    },
    {
      "cell_type": "markdown",
      "metadata": {
        "id": "yQ4ePAbznZsV"
      },
      "source": [
        "Funksjonen arange returnerer verdier på det \"halvåpne\" intervallet\n",
        "`[xmin,xmax)`, dvs slik at xmin er med mens xmax ikke er med. Her blir\n",
        "dermed `x[0]=xmin=0.000`, `x[1]=xmin+1*dx=0.001`, ..., `x[1400]=xmax-dx=1.400`, \n",
        "dvs x blir en tabell med 1401 elementer"
      ]
    },
    {
      "cell_type": "code",
      "execution_count": 8,
      "metadata": {
        "id": "ruU35FUmnnn9"
      },
      "outputs": [],
      "source": [
        "Nx = len(x)\n",
        "y = cs(x)       #y=tabell med 1401 verdier for y(x)\n",
        "dy = cs(x,1)    #dy=tabell med 1401 verdier for y'(x)\n",
        "d2y = cs(x,2)   #d2y=tabell med 1401 verdier for y''(x)"
      ]
    },
    {
      "cell_type": "markdown",
      "metadata": {
        "id": "RGuzfOQpoeqM"
      },
      "source": [
        "Eksempel: Plotter banens form y(x):"
      ]
    },
    {
      "cell_type": "code",
      "execution_count": 9,
      "metadata": {
        "colab": {
          "base_uri": "https://localhost:8080/",
          "height": 415
        },
        "id": "YwenKb4ok0iB",
        "outputId": "946804ce-3756-4d92-e4ab-5bc1cf179e1e"
      },
      "outputs": [
        {
          "data": {
            "image/png": "[encoded data removed]",
            "text/plain": [
              "<Figure size 864x432 with 1 Axes>"
            ]
          },
          "metadata": {
            "needs_background": "light"
          },
          "output_type": "display_data"
        }
      ],
      "source": [
        "baneform = plt.figure('y(x)',figsize=(12,6))\n",
        "plt.plot(x,y,xfast,yfast,'*')\n",
        "plt.title('Banens form')\n",
        "plt.xlabel('$x$ (m)',fontsize=20)\n",
        "plt.ylabel('$y(x)$ (m)',fontsize=20)\n",
        "plt.ylim(0.10,0.40)\n",
        "plt.grid()\n",
        "plt.show()"
      ]
    },
    {
      "cell_type": "markdown",
      "metadata": {
        "id": "DhHAPUzAoya3"
      },
      "source": [
        "Denne koden kan nå utvides til å regne ut flere interessante størelser:"
      ]
    },
    {
      "cell_type": "code",
      "execution_count": null,
      "metadata": {
        "id": "4BLO0pLQoXTj"
      },
      "outputs": [],
      "source": []
    }
  ],
  "metadata": {
    "colab": {
      "collapsed_sections": [],
      "name": "TFY41xx Fysikk våren 2021.ipynb",
      "provenance": []
    },
    "kernelspec": {
      "display_name": "Python 3",
      "name": "python3"
    },
    "language_info": {
      "codemirror_mode": {
        "name": "ipython",
        "version": 3
      },
      "file_extension": ".py",
      "mimetype": "text/x-python",
      "name": "python",
      "nbconvert_exporter": "python",
      "pygments_lexer": "ipython3",
      "version": "3.9.7"
    }
  },
  "nbformat": 4,
  "nbformat_minor": 0
}
